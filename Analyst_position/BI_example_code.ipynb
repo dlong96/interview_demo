{
 "cells": [
  {
   "cell_type": "markdown",
   "metadata": {},
   "source": [
    "# CASE STUDY BI PART"
   ]
  },
  {
   "cell_type": "markdown",
   "metadata": {},
   "source": [
    "> ### This notebook consists three parts :\n",
    "> 1. Visualize traffic in all channels \n",
    "\n",
    "> 2. Visualize the Conversion Rates in each onboarding steps \n",
    "\n",
    "> 3. Analysis the causing of low conversion rate in the process (Given the sparsity of the dataset, this analysis only using the Organic traffic)\n",
    "\n"
   ]
  },
  {
   "cell_type": "markdown",
   "metadata": {},
   "source": [
    "###### Before each section started, assumptions and steps are wroted in the beginning"
   ]
  },
  {
   "cell_type": "code",
   "execution_count": 138,
   "metadata": {},
   "outputs": [],
   "source": [
    "import pandas as pd\n",
    "import matplotlib.pyplot as plt\n",
    "from matplotlib import rcParams\n",
    "import numpy as np\n",
    "rcParams.update({'figure.autolayout': True})\n",
    "%matplotlib inline"
   ]
  },
  {
   "cell_type": "code",
   "execution_count": 2,
   "metadata": {},
   "outputs": [],
   "source": [
    "rcParams['figure.figsize'] = 8, 6\n",
    "pd.set_option('display.max_columns', 10)\n",
    "pd.set_option('display.width', 350)"
   ]
  },
  {
   "cell_type": "markdown",
   "metadata": {},
   "source": [
    "## 1) BI PART"
   ]
  },
  {
   "cell_type": "code",
   "execution_count": 146,
   "metadata": {},
   "outputs": [],
   "source": [
    "user_channel = pd.read_csv(\"User_channels.csv\",delimiter=\",\")\n",
    "user_conv = pd.read_csv(\"User_journey.csv\",delimiter=',') "
   ]
  },
  {
   "cell_type": "code",
   "execution_count": 112,
   "metadata": {},
   "outputs": [
    {
     "name": "stdout",
     "output_type": "stream",
     "text": [
      "                           anonymous_id     attributed_channel\n",
      "0  0000A0C6-9361-4D49-89CF-26CF45C405D1     Instagram Installs\n",
      "1  0001A23F-2B57-4C83-A9B2-0312410256BB   Adwords UAC Installs\n",
      "2  0002AB38-AB1D-43AB-AF2E-1A301B8C54F2                Organic\n",
      "3  0002DEB7-F955-409A-A725-1DD68E82DAB8  Off-Facebook Installs\n",
      "4  000365EF-E564-4E3C-91AA-FDFF0ED07C59                Organic\n",
      "                           anonymous_id                event_text                         timestamp language os_name\n",
      "0  008B280E-E055-46C3-AFB7-AC134D3D12A8                   appOpen  2018-01-04 20:13:51.246000+01:00   German     iOS\n",
      "1  008B280E-E055-46C3-AFB7-AC134D3D12A8     Application Installed  2018-01-04 20:13:51.266000+01:00   German     iOS\n",
      "2  008B280E-E055-46C3-AFB7-AC134D3D12A8  sectionOnboardingSlide 0  2018-01-04 20:13:59.909000+01:00   German     iOS\n",
      "3  008B280E-E055-46C3-AFB7-AC134D3D12A8      sectionNotifications  2018-01-04 20:14:07.456000+01:00   German     iOS\n",
      "4  008B280E-E055-46C3-AFB7-AC134D3D12A8        appSetToBackground  2018-01-04 20:14:16.932000+01:00   German     iOS\n"
     ]
    }
   ],
   "source": [
    "print(user_channel.head())\n",
    "print(user_conv.head())"
   ]
  },
  {
   "cell_type": "markdown",
   "metadata": {},
   "source": [
    "#### Descriptive Stats for user_channel"
   ]
  },
  {
   "cell_type": "code",
   "execution_count": 6,
   "metadata": {},
   "outputs": [
    {
     "name": "stdout",
     "output_type": "stream",
     "text": [
      "                                anonymous_id attributed_channel\n",
      "count                                    100                100\n",
      "unique                                   100                 14\n",
      "top     00422C70-43B8-4DBA-9994-480935DE4D4D            Organic\n",
      "freq                                       1                 53\n"
     ]
    }
   ],
   "source": [
    "print(user_channel.describe())"
   ]
  },
  {
   "cell_type": "code",
   "execution_count": 7,
   "metadata": {},
   "outputs": [
    {
     "name": "stdout",
     "output_type": "stream",
     "text": [
      "<class 'pandas.core.frame.DataFrame'>\n",
      "RangeIndex: 100 entries, 0 to 99\n",
      "Data columns (total 2 columns):\n",
      "anonymous_id          100 non-null object\n",
      "attributed_channel    100 non-null object\n",
      "dtypes: object(2)\n",
      "memory usage: 1.7+ KB\n",
      "None\n"
     ]
    }
   ],
   "source": [
    "print(user_channel.info())"
   ]
  },
  {
   "cell_type": "markdown",
   "metadata": {},
   "source": [
    "\n",
    "### 1.11) Bring the most traffic to our app and generate installs"
   ]
  },
  {
   "cell_type": "code",
   "execution_count": 8,
   "metadata": {
    "scrolled": true
   },
   "outputs": [
    {
     "data": {
      "text/plain": [
       "attributed_channel\n",
       "Organic                        53\n",
       "Instagram Installs             12\n",
       "Facebook Installs              12\n",
       "Off-Facebook Installs           6\n",
       "Twitter Installs                4\n",
       "Liftoff                         4\n",
       "Leverate_CPI-3                  2\n",
       "Website                         1\n",
       "Snapchat Installs               1\n",
       "Smartbanner                     1\n",
       "Facebook Messenger Installs     1\n",
       "Blog_Posts                      1\n",
       "Adwords UAC Installs            1\n",
       "Adwords Search                  1\n",
       "dtype: int64"
      ]
     },
     "execution_count": 8,
     "metadata": {},
     "output_type": "execute_result"
    }
   ],
   "source": [
    "user_channel.groupby(['attributed_channel']).size().sort_values(ascending=False)"
   ]
  },
  {
   "cell_type": "code",
   "execution_count": 9,
   "metadata": {},
   "outputs": [],
   "source": [
    "df = user_channel.groupby(['attributed_channel'])['anonymous_id'].count().reset_index(name='count')\\\n",
    "                        .sort_values(['count'], ascending=False) "
   ]
  },
  {
   "cell_type": "code",
   "execution_count": 111,
   "metadata": {},
   "outputs": [
    {
     "data": {
      "image/png": "[encoded data removed]",
      "text/plain": [
       "<Figure size 576x432 with 1 Axes>"
      ]
     },
     "metadata": {
      "needs_background": "light"
     },
     "output_type": "display_data"
    }
   ],
   "source": [
    "ax = df.plot.barh(x='attributed_channel',y='count',color='steelblue')\n",
    "ax.invert_yaxis()\n",
    "ax.set_title('User distribution of each channel',fontsize=14)\n",
    "\n",
    "ax.spines['right'].set_visible(False)\n",
    "ax.spines['top'].set_visible(False)\n",
    "ax.spines['left'].set_visible(False)\n",
    "ax.set_ylabel(\"Attributed Channel\", fontsize=16,labelpad=10)\n",
    "ax.set_xlabel(\"Total Traffic\", fontsize=16,labelpad=20)\n",
    "\n",
    "ax.legend(['total traffic'])\n",
    "plt.savefig('task1_1')"
   ]
  },
  {
   "cell_type": "code",
   "execution_count": null,
   "metadata": {},
   "outputs": [],
   "source": []
  },
  {
   "cell_type": "markdown",
   "metadata": {
    "collapsed": true
   },
   "source": [
    "\n",
    "### 1.12) Show the highest Acquisition Rate (conversion rate from install to sign up success)\n"
   ]
  },
  {
   "cell_type": "markdown",
   "metadata": {},
   "source": [
    "> merge two table, User_channel and User_journey to have the extra infomation about on_boarding process\n",
    "\n",
    ">  first, add a new boolean column 'converted'. if the user finished all steps,i.e, values in 'event_text' contain 'signUpSuccess',  then the value in column 'converted' is 1, else it is 0 \n",
    "\n",
    ">    second, group the data based on the user anonymous_id, so we can tell which user has converted. (the number of user after grouping is supposed to be equal to the number of unique user we observed in the begining)\n",
    "    \n",
    "    \n",
    ">    finnaly, group the data from second step based on attributed_channel and compute mean value on 'converted'\n",
    "\n",
    "> In addition, add one sanity check to make sure the mentationed computation is correct"
   ]
  },
  {
   "cell_type": "code",
   "execution_count": 11,
   "metadata": {},
   "outputs": [],
   "source": [
    "join_table = pd.merge(user_channel,user_conv,on='anonymous_id')"
   ]
  },
  {
   "cell_type": "code",
   "execution_count": 12,
   "metadata": {},
   "outputs": [
    {
     "data": {
      "text/html": [
       "<div>\n",
       "<style scoped>\n",
       "    .dataframe tbody tr th:only-of-type {\n",
       "        vertical-align: middle;\n",
       "    }\n",
       "\n",
       "    .dataframe tbody tr th {\n",
       "        vertical-align: top;\n",
       "    }\n",
       "\n",
       "    .dataframe thead th {\n",
       "        text-align: right;\n",
       "    }\n",
       "</style>\n",
       "<table border=\"1\" class=\"dataframe\">\n",
       "  <thead>\n",
       "    <tr style=\"text-align: right;\">\n",
       "      <th></th>\n",
       "      <th>anonymous_id</th>\n",
       "      <th>attributed_channel</th>\n",
       "      <th>event_text</th>\n",
       "      <th>timestamp</th>\n",
       "      <th>language</th>\n",
       "      <th>os_name</th>\n",
       "    </tr>\n",
       "  </thead>\n",
       "  <tbody>\n",
       "    <tr>\n",
       "      <td>0</td>\n",
       "      <td>0000A0C6-9361-4D49-89CF-26CF45C405D1</td>\n",
       "      <td>Instagram Installs</td>\n",
       "      <td>appOpen</td>\n",
       "      <td>2018-05-28T13:16:08.336+02:00</td>\n",
       "      <td>German</td>\n",
       "      <td>iOS</td>\n",
       "    </tr>\n",
       "    <tr>\n",
       "      <td>1</td>\n",
       "      <td>0000A0C6-9361-4D49-89CF-26CF45C405D1</td>\n",
       "      <td>Instagram Installs</td>\n",
       "      <td>Application Installed</td>\n",
       "      <td>2018-05-28T13:16:08.364+02:00</td>\n",
       "      <td>German</td>\n",
       "      <td>iOS</td>\n",
       "    </tr>\n",
       "    <tr>\n",
       "      <td>2</td>\n",
       "      <td>0000A0C6-9361-4D49-89CF-26CF45C405D1</td>\n",
       "      <td>Instagram Installs</td>\n",
       "      <td>sectionOnboardingSlide 0</td>\n",
       "      <td>2018-05-28T13:16:10.687+02:00</td>\n",
       "      <td>German</td>\n",
       "      <td>iOS</td>\n",
       "    </tr>\n",
       "    <tr>\n",
       "      <td>3</td>\n",
       "      <td>0000A0C6-9361-4D49-89CF-26CF45C405D1</td>\n",
       "      <td>Instagram Installs</td>\n",
       "      <td>Install Attributed</td>\n",
       "      <td>2018-05-28T13:16:16.719+02:00</td>\n",
       "      <td>German</td>\n",
       "      <td>iOS</td>\n",
       "    </tr>\n",
       "    <tr>\n",
       "      <td>4</td>\n",
       "      <td>0000A0C6-9361-4D49-89CF-26CF45C405D1</td>\n",
       "      <td>Instagram Installs</td>\n",
       "      <td>sectionNotifications</td>\n",
       "      <td>2018-05-28T13:16:30.107+02:00</td>\n",
       "      <td>German</td>\n",
       "      <td>iOS</td>\n",
       "    </tr>\n",
       "  </tbody>\n",
       "</table>\n",
       "</div>"
      ],
      "text/plain": [
       "                           anonymous_id  attributed_channel                event_text                      timestamp language os_name\n",
       "0  0000A0C6-9361-4D49-89CF-26CF45C405D1  Instagram Installs                   appOpen  2018-05-28T13:16:08.336+02:00   German     iOS\n",
       "1  0000A0C6-9361-4D49-89CF-26CF45C405D1  Instagram Installs     Application Installed  2018-05-28T13:16:08.364+02:00   German     iOS\n",
       "2  0000A0C6-9361-4D49-89CF-26CF45C405D1  Instagram Installs  sectionOnboardingSlide 0  2018-05-28T13:16:10.687+02:00   German     iOS\n",
       "3  0000A0C6-9361-4D49-89CF-26CF45C405D1  Instagram Installs        Install Attributed  2018-05-28T13:16:16.719+02:00   German     iOS\n",
       "4  0000A0C6-9361-4D49-89CF-26CF45C405D1  Instagram Installs      sectionNotifications  2018-05-28T13:16:30.107+02:00   German     iOS"
      ]
     },
     "execution_count": 12,
     "metadata": {},
     "output_type": "execute_result"
    }
   ],
   "source": [
    "join_table.head()"
   ]
  },
  {
   "cell_type": "code",
   "execution_count": 13,
   "metadata": {},
   "outputs": [],
   "source": [
    "join_table['converted'] = join_table['event_text'].apply(lambda x: 1 if x=='signUpSuccess' else 0)"
   ]
  },
  {
   "cell_type": "code",
   "execution_count": 15,
   "metadata": {},
   "outputs": [],
   "source": [
    "user_signup = join_table.groupby(['attributed_channel','anonymous_id'])['converted'].sum().reset_index()"
   ]
  },
  {
   "cell_type": "code",
   "execution_count": 17,
   "metadata": {},
   "outputs": [],
   "source": [
    "channel_conversion = user_signup.groupby(['attributed_channel'])['converted'].mean().round(2).reset_index(name='conversion_rate')"
   ]
  },
  {
   "cell_type": "code",
   "execution_count": 116,
   "metadata": {},
   "outputs": [
    {
     "data": {
      "text/html": [
       "<div>\n",
       "<style scoped>\n",
       "    .dataframe tbody tr th:only-of-type {\n",
       "        vertical-align: middle;\n",
       "    }\n",
       "\n",
       "    .dataframe tbody tr th {\n",
       "        vertical-align: top;\n",
       "    }\n",
       "\n",
       "    .dataframe thead th {\n",
       "        text-align: right;\n",
       "    }\n",
       "</style>\n",
       "<table border=\"1\" class=\"dataframe\">\n",
       "  <thead>\n",
       "    <tr style=\"text-align: right;\">\n",
       "      <th></th>\n",
       "      <th>attributed_channel</th>\n",
       "      <th>conversion_rate</th>\n",
       "    </tr>\n",
       "  </thead>\n",
       "  <tbody>\n",
       "    <tr>\n",
       "      <td>13</td>\n",
       "      <td>Website</td>\n",
       "      <td>1.00</td>\n",
       "    </tr>\n",
       "    <tr>\n",
       "      <td>3</td>\n",
       "      <td>Facebook Installs</td>\n",
       "      <td>0.33</td>\n",
       "    </tr>\n",
       "    <tr>\n",
       "      <td>8</td>\n",
       "      <td>Off-Facebook Installs</td>\n",
       "      <td>0.33</td>\n",
       "    </tr>\n",
       "    <tr>\n",
       "      <td>9</td>\n",
       "      <td>Organic</td>\n",
       "      <td>0.09</td>\n",
       "    </tr>\n",
       "    <tr>\n",
       "      <td>5</td>\n",
       "      <td>Instagram Installs</td>\n",
       "      <td>0.08</td>\n",
       "    </tr>\n",
       "    <tr>\n",
       "      <td>0</td>\n",
       "      <td>Adwords Search</td>\n",
       "      <td>0.00</td>\n",
       "    </tr>\n",
       "    <tr>\n",
       "      <td>1</td>\n",
       "      <td>Adwords UAC Installs</td>\n",
       "      <td>0.00</td>\n",
       "    </tr>\n",
       "    <tr>\n",
       "      <td>2</td>\n",
       "      <td>Blog_Posts</td>\n",
       "      <td>0.00</td>\n",
       "    </tr>\n",
       "    <tr>\n",
       "      <td>4</td>\n",
       "      <td>Facebook Messenger Installs</td>\n",
       "      <td>0.00</td>\n",
       "    </tr>\n",
       "    <tr>\n",
       "      <td>6</td>\n",
       "      <td>Leverate_CPI-3</td>\n",
       "      <td>0.00</td>\n",
       "    </tr>\n",
       "    <tr>\n",
       "      <td>7</td>\n",
       "      <td>Liftoff</td>\n",
       "      <td>0.00</td>\n",
       "    </tr>\n",
       "    <tr>\n",
       "      <td>10</td>\n",
       "      <td>Smartbanner</td>\n",
       "      <td>0.00</td>\n",
       "    </tr>\n",
       "    <tr>\n",
       "      <td>11</td>\n",
       "      <td>Snapchat Installs</td>\n",
       "      <td>0.00</td>\n",
       "    </tr>\n",
       "    <tr>\n",
       "      <td>12</td>\n",
       "      <td>Twitter Installs</td>\n",
       "      <td>0.00</td>\n",
       "    </tr>\n",
       "  </tbody>\n",
       "</table>\n",
       "</div>"
      ],
      "text/plain": [
       "             attributed_channel  conversion_rate\n",
       "13                      Website             1.00\n",
       "3             Facebook Installs             0.33\n",
       "8         Off-Facebook Installs             0.33\n",
       "9                       Organic             0.09\n",
       "5            Instagram Installs             0.08\n",
       "0                Adwords Search             0.00\n",
       "1          Adwords UAC Installs             0.00\n",
       "2                    Blog_Posts             0.00\n",
       "4   Facebook Messenger Installs             0.00\n",
       "6                Leverate_CPI-3             0.00\n",
       "7                       Liftoff             0.00\n",
       "10                  Smartbanner             0.00\n",
       "11            Snapchat Installs             0.00\n",
       "12             Twitter Installs             0.00"
      ]
     },
     "execution_count": 116,
     "metadata": {},
     "output_type": "execute_result"
    }
   ],
   "source": [
    "channel_conversion.sort_values('conversion_rate',ascending=False)"
   ]
  },
  {
   "cell_type": "markdown",
   "metadata": {},
   "source": [
    "#### Sannity check:\n",
    "> check in the joined table when 'attributed_channel' is 'Website', whether all unique anonymous_id have finsihed all steps "
   ]
  },
  {
   "cell_type": "code",
   "execution_count": 19,
   "metadata": {},
   "outputs": [
    {
     "data": {
      "text/plain": [
       "True"
      ]
     },
     "execution_count": 19,
     "metadata": {},
     "output_type": "execute_result"
    }
   ],
   "source": [
    "join_table.query('attributed_channel ==\"Website\"')['anonymous_id'].nunique() == \\\n",
    "join_table.query('attributed_channel ==\"Website\"').query('event_text == \"signUpSuccess\"')['anonymous_id'].nunique()"
   ]
  },
  {
   "cell_type": "code",
   "execution_count": 20,
   "metadata": {},
   "outputs": [
    {
     "data": {
      "text/html": [
       "<div>\n",
       "<style scoped>\n",
       "    .dataframe tbody tr th:only-of-type {\n",
       "        vertical-align: middle;\n",
       "    }\n",
       "\n",
       "    .dataframe tbody tr th {\n",
       "        vertical-align: top;\n",
       "    }\n",
       "\n",
       "    .dataframe thead th {\n",
       "        text-align: right;\n",
       "    }\n",
       "</style>\n",
       "<table border=\"1\" class=\"dataframe\">\n",
       "  <thead>\n",
       "    <tr style=\"text-align: right;\">\n",
       "      <th></th>\n",
       "      <th>anonymous_id</th>\n",
       "      <th>attributed_channel</th>\n",
       "      <th>event_text</th>\n",
       "      <th>timestamp</th>\n",
       "      <th>language</th>\n",
       "      <th>os_name</th>\n",
       "      <th>converted</th>\n",
       "    </tr>\n",
       "  </thead>\n",
       "  <tbody>\n",
       "    <tr>\n",
       "      <td>1688</td>\n",
       "      <td>00A8A726-BEF0-43F1-A212-B1C713C2A612</td>\n",
       "      <td>Website</td>\n",
       "      <td>appOpen</td>\n",
       "      <td>2018-03-24T16:26:44.228+01:00</td>\n",
       "      <td>German</td>\n",
       "      <td>iOS</td>\n",
       "      <td>0</td>\n",
       "    </tr>\n",
       "    <tr>\n",
       "      <td>1689</td>\n",
       "      <td>00A8A726-BEF0-43F1-A212-B1C713C2A612</td>\n",
       "      <td>Website</td>\n",
       "      <td>Application Installed</td>\n",
       "      <td>2018-03-24T16:26:44.259+01:00</td>\n",
       "      <td>German</td>\n",
       "      <td>iOS</td>\n",
       "      <td>0</td>\n",
       "    </tr>\n",
       "    <tr>\n",
       "      <td>1690</td>\n",
       "      <td>00A8A726-BEF0-43F1-A212-B1C713C2A612</td>\n",
       "      <td>Website</td>\n",
       "      <td>sectionOnboardingSlide 0</td>\n",
       "      <td>2018-03-24T16:26:49.041+01:00</td>\n",
       "      <td>German</td>\n",
       "      <td>iOS</td>\n",
       "      <td>0</td>\n",
       "    </tr>\n",
       "    <tr>\n",
       "      <td>1691</td>\n",
       "      <td>00A8A726-BEF0-43F1-A212-B1C713C2A612</td>\n",
       "      <td>Website</td>\n",
       "      <td>sectionOnboardingSlide 1</td>\n",
       "      <td>2018-03-24T16:27:01.443+01:00</td>\n",
       "      <td>German</td>\n",
       "      <td>iOS</td>\n",
       "      <td>0</td>\n",
       "    </tr>\n",
       "    <tr>\n",
       "      <td>1692</td>\n",
       "      <td>00A8A726-BEF0-43F1-A212-B1C713C2A612</td>\n",
       "      <td>Website</td>\n",
       "      <td>sectionOnboardingSlide 2</td>\n",
       "      <td>2018-03-24T16:27:03.276+01:00</td>\n",
       "      <td>German</td>\n",
       "      <td>iOS</td>\n",
       "      <td>0</td>\n",
       "    </tr>\n",
       "    <tr>\n",
       "      <td>1693</td>\n",
       "      <td>00A8A726-BEF0-43F1-A212-B1C713C2A612</td>\n",
       "      <td>Website</td>\n",
       "      <td>sectionNotifications</td>\n",
       "      <td>2018-03-24T16:27:04.067+01:00</td>\n",
       "      <td>German</td>\n",
       "      <td>iOS</td>\n",
       "      <td>0</td>\n",
       "    </tr>\n",
       "    <tr>\n",
       "      <td>1694</td>\n",
       "      <td>00A8A726-BEF0-43F1-A212-B1C713C2A612</td>\n",
       "      <td>Website</td>\n",
       "      <td>sectionNotificationAccepted</td>\n",
       "      <td>2018-03-24T16:27:13.235+01:00</td>\n",
       "      <td>German</td>\n",
       "      <td>iOS</td>\n",
       "      <td>0</td>\n",
       "    </tr>\n",
       "    <tr>\n",
       "      <td>1695</td>\n",
       "      <td>00A8A726-BEF0-43F1-A212-B1C713C2A612</td>\n",
       "      <td>Website</td>\n",
       "      <td>sectionChooseFirstTaxYear</td>\n",
       "      <td>2018-03-24T16:27:33.680+01:00</td>\n",
       "      <td>German</td>\n",
       "      <td>iOS</td>\n",
       "      <td>0</td>\n",
       "    </tr>\n",
       "    <tr>\n",
       "      <td>1696</td>\n",
       "      <td>00A8A726-BEF0-43F1-A212-B1C713C2A612</td>\n",
       "      <td>Website</td>\n",
       "      <td>firstTaxYearChosen</td>\n",
       "      <td>2018-03-24T16:27:36.354+01:00</td>\n",
       "      <td>German</td>\n",
       "      <td>iOS</td>\n",
       "      <td>0</td>\n",
       "    </tr>\n",
       "    <tr>\n",
       "      <td>1697</td>\n",
       "      <td>00A8A726-BEF0-43F1-A212-B1C713C2A612</td>\n",
       "      <td>Website</td>\n",
       "      <td>Install Attributed</td>\n",
       "      <td>2018-03-24T16:27:38.773+01:00</td>\n",
       "      <td>German</td>\n",
       "      <td>iOS</td>\n",
       "      <td>0</td>\n",
       "    </tr>\n",
       "    <tr>\n",
       "      <td>1698</td>\n",
       "      <td>00A8A726-BEF0-43F1-A212-B1C713C2A612</td>\n",
       "      <td>Website</td>\n",
       "      <td>lastWhoAreYouSeen</td>\n",
       "      <td>2018-03-24T16:28:11.742+01:00</td>\n",
       "      <td>German</td>\n",
       "      <td>iOS</td>\n",
       "      <td>0</td>\n",
       "    </tr>\n",
       "    <tr>\n",
       "      <td>1699</td>\n",
       "      <td>00A8A726-BEF0-43F1-A212-B1C713C2A612</td>\n",
       "      <td>Website</td>\n",
       "      <td>lastWhoAreYouAnswered</td>\n",
       "      <td>2018-03-24T16:28:17.239+01:00</td>\n",
       "      <td>German</td>\n",
       "      <td>iOS</td>\n",
       "      <td>0</td>\n",
       "    </tr>\n",
       "    <tr>\n",
       "      <td>1700</td>\n",
       "      <td>00A8A726-BEF0-43F1-A212-B1C713C2A612</td>\n",
       "      <td>Website</td>\n",
       "      <td>serviceContinueSuccess</td>\n",
       "      <td>2018-03-24T16:28:17.799+01:00</td>\n",
       "      <td>German</td>\n",
       "      <td>iOS</td>\n",
       "      <td>0</td>\n",
       "    </tr>\n",
       "    <tr>\n",
       "      <td>1701</td>\n",
       "      <td>00A8A726-BEF0-43F1-A212-B1C713C2A612</td>\n",
       "      <td>Website</td>\n",
       "      <td>sectionSignUp</td>\n",
       "      <td>2018-03-24T16:28:27.601+01:00</td>\n",
       "      <td>German</td>\n",
       "      <td>iOS</td>\n",
       "      <td>0</td>\n",
       "    </tr>\n",
       "    <tr>\n",
       "      <td>1702</td>\n",
       "      <td>00A8A726-BEF0-43F1-A212-B1C713C2A612</td>\n",
       "      <td>Website</td>\n",
       "      <td>signUpSuccess</td>\n",
       "      <td>2018-03-24T16:29:07.647+01:00</td>\n",
       "      <td>German</td>\n",
       "      <td>iOS</td>\n",
       "      <td>1</td>\n",
       "    </tr>\n",
       "    <tr>\n",
       "      <td>1703</td>\n",
       "      <td>00A8A726-BEF0-43F1-A212-B1C713C2A612</td>\n",
       "      <td>Website</td>\n",
       "      <td>appSetToBackground</td>\n",
       "      <td>2018-03-24T16:29:15.309+01:00</td>\n",
       "      <td>German</td>\n",
       "      <td>iOS</td>\n",
       "      <td>0</td>\n",
       "    </tr>\n",
       "  </tbody>\n",
       "</table>\n",
       "</div>"
      ],
      "text/plain": [
       "                              anonymous_id attributed_channel                   event_text                      timestamp language os_name  converted\n",
       "1688  00A8A726-BEF0-43F1-A212-B1C713C2A612            Website                      appOpen  2018-03-24T16:26:44.228+01:00   German     iOS          0\n",
       "1689  00A8A726-BEF0-43F1-A212-B1C713C2A612            Website        Application Installed  2018-03-24T16:26:44.259+01:00   German     iOS          0\n",
       "1690  00A8A726-BEF0-43F1-A212-B1C713C2A612            Website     sectionOnboardingSlide 0  2018-03-24T16:26:49.041+01:00   German     iOS          0\n",
       "1691  00A8A726-BEF0-43F1-A212-B1C713C2A612            Website     sectionOnboardingSlide 1  2018-03-24T16:27:01.443+01:00   German     iOS          0\n",
       "1692  00A8A726-BEF0-43F1-A212-B1C713C2A612            Website     sectionOnboardingSlide 2  2018-03-24T16:27:03.276+01:00   German     iOS          0\n",
       "1693  00A8A726-BEF0-43F1-A212-B1C713C2A612            Website         sectionNotifications  2018-03-24T16:27:04.067+01:00   German     iOS          0\n",
       "1694  00A8A726-BEF0-43F1-A212-B1C713C2A612            Website  sectionNotificationAccepted  2018-03-24T16:27:13.235+01:00   German     iOS          0\n",
       "1695  00A8A726-BEF0-43F1-A212-B1C713C2A612            Website    sectionChooseFirstTaxYear  2018-03-24T16:27:33.680+01:00   German     iOS          0\n",
       "1696  00A8A726-BEF0-43F1-A212-B1C713C2A612            Website           firstTaxYearChosen  2018-03-24T16:27:36.354+01:00   German     iOS          0\n",
       "1697  00A8A726-BEF0-43F1-A212-B1C713C2A612            Website           Install Attributed  2018-03-24T16:27:38.773+01:00   German     iOS          0\n",
       "1698  00A8A726-BEF0-43F1-A212-B1C713C2A612            Website            lastWhoAreYouSeen  2018-03-24T16:28:11.742+01:00   German     iOS          0\n",
       "1699  00A8A726-BEF0-43F1-A212-B1C713C2A612            Website        lastWhoAreYouAnswered  2018-03-24T16:28:17.239+01:00   German     iOS          0\n",
       "1700  00A8A726-BEF0-43F1-A212-B1C713C2A612            Website       serviceContinueSuccess  2018-03-24T16:28:17.799+01:00   German     iOS          0\n",
       "1701  00A8A726-BEF0-43F1-A212-B1C713C2A612            Website                sectionSignUp  2018-03-24T16:28:27.601+01:00   German     iOS          0\n",
       "1702  00A8A726-BEF0-43F1-A212-B1C713C2A612            Website                signUpSuccess  2018-03-24T16:29:07.647+01:00   German     iOS          1\n",
       "1703  00A8A726-BEF0-43F1-A212-B1C713C2A612            Website           appSetToBackground  2018-03-24T16:29:15.309+01:00   German     iOS          0"
      ]
     },
     "execution_count": 20,
     "metadata": {},
     "output_type": "execute_result"
    }
   ],
   "source": [
    "join_table[join_table['attributed_channel']=='Website']"
   ]
  },
  {
   "cell_type": "markdown",
   "metadata": {},
   "source": [
    "### Conclusion for 1.1) and 1.2)\n",
    "\n",
    "#### Organic is the channel brings the most traffic  (53%)\n",
    "#### However, Organic is not the one has the highest overall Acquistion Rate. Need to further analysis the causing.\n",
    "#### Website is the channel having 100% Acquistion Rate, but only 1% of the traffic comes from Website. Since the traffic is so small in the given data, it is hard to gain insight. \n"
   ]
  },
  {
   "cell_type": "markdown",
   "metadata": {},
   "source": []
  },
  {
   "cell_type": "markdown",
   "metadata": {},
   "source": [
    "The following blocks are only for plotting\n",
    "\n",
    "And we are interested only in channels that have conversersion rate"
   ]
  },
  {
   "cell_type": "code",
   "execution_count": 135,
   "metadata": {},
   "outputs": [
    {
     "data": {
      "image/png": "[encoded data removed]",
      "text/plain": [
       "<Figure size 576x432 with 1 Axes>"
      ]
     },
     "metadata": {
      "needs_background": "light"
     },
     "output_type": "display_data"
    }
   ],
   "source": [
    "traffice_conversion= pd.merge(df, channel_conversion, on='attributed_channel')\n",
    "traffice_conversion = traffice_conversion.rename(columns={'count':'total_user'})\n",
    "traffice_conversion['amountof_signedup'] = round(traffice_conversion['total_user'] * traffice_conversion['conversion_rate'])\n",
    "traffice_conversion_plot = pd.melt(traffice_conversion[['attributed_channel','total_user','amountof_signedup']],id_vars =['attributed_channel'])\n",
    "traffice_conversion_plot = traffice_conversion_plot.set_index(['attributed_channel', 'variable']).value.unstack()\n",
    "\n",
    "\n",
    "traffice_conversion_plot.columns = pd.CategoricalIndex(traffice_conversion_plot.columns.values,\n",
    "                                 ordered=True,\n",
    "                                 categories=['total_user','amountof_signedup'])\n",
    "traffice_conversion_plot= traffice_conversion_plot.sort_index(axis=1)\n",
    "traffice_conversion_plot = traffice_conversion_plot[traffice_conversion_plot['amountof_signedup']>0]\n",
    "traffice_conversion_plot = traffice_conversion_plot.iloc[np.argsort(traffice_conversion_plot.amountof_signedup / traffice_conversion_plot.total_user).values[::-1]]\n",
    "color = ['tab:blue','tab:orange']\n",
    "ax = traffice_conversion_plot.sort_values('total_user',ascending=True).plot.bar(width=0.73,color=color,rot=0)\n",
    "ax.set_ylabel(\"Number of User\", fontsize=16,labelpad=10)\n",
    "ax.set_xlabel(\"Attributed Channel\", fontsize=16,labelpad=20)\n",
    "ax.set_title(\"Attributed Channels that having conversion rate > 0%\",fontsize=14).set_position([.5, 1.1])\n",
    "ax.spines['right'].set_visible(False)\n",
    "ax.spines['top'].set_visible(False)\n",
    "ax.spines['left'].set_visible(False)\n",
    "\n",
    "\n",
    "for i in ax.patches:\n",
    "    ax.text(i.get_x()+0.16, i.get_height()+.5, \\\n",
    "            str(int((i.get_height()))), color='black')\n",
    "\n",
    "plt.savefig('task1_2')"
   ]
  },
  {
   "cell_type": "code",
   "execution_count": 137,
   "metadata": {},
   "outputs": [
    {
     "data": {
      "text/html": [
       "<div>\n",
       "<style scoped>\n",
       "    .dataframe tbody tr th:only-of-type {\n",
       "        vertical-align: middle;\n",
       "    }\n",
       "\n",
       "    .dataframe tbody tr th {\n",
       "        vertical-align: top;\n",
       "    }\n",
       "\n",
       "    .dataframe thead th {\n",
       "        text-align: right;\n",
       "    }\n",
       "</style>\n",
       "<table border=\"1\" class=\"dataframe\">\n",
       "  <thead>\n",
       "    <tr style=\"text-align: right;\">\n",
       "      <th></th>\n",
       "      <th>total_user</th>\n",
       "      <th>amountof_signedup</th>\n",
       "    </tr>\n",
       "    <tr>\n",
       "      <th>attributed_channel</th>\n",
       "      <th></th>\n",
       "      <th></th>\n",
       "    </tr>\n",
       "  </thead>\n",
       "  <tbody>\n",
       "    <tr>\n",
       "      <td>Website</td>\n",
       "      <td>1.0</td>\n",
       "      <td>1.0</td>\n",
       "    </tr>\n",
       "    <tr>\n",
       "      <td>Off-Facebook Installs</td>\n",
       "      <td>6.0</td>\n",
       "      <td>2.0</td>\n",
       "    </tr>\n",
       "    <tr>\n",
       "      <td>Facebook Installs</td>\n",
       "      <td>12.0</td>\n",
       "      <td>4.0</td>\n",
       "    </tr>\n",
       "    <tr>\n",
       "      <td>Organic</td>\n",
       "      <td>53.0</td>\n",
       "      <td>5.0</td>\n",
       "    </tr>\n",
       "    <tr>\n",
       "      <td>Instagram Installs</td>\n",
       "      <td>12.0</td>\n",
       "      <td>1.0</td>\n",
       "    </tr>\n",
       "  </tbody>\n",
       "</table>\n",
       "</div>"
      ],
      "text/plain": [
       "                       total_user  amountof_signedup\n",
       "attributed_channel                                  \n",
       "Website                       1.0                1.0\n",
       "Off-Facebook Installs         6.0                2.0\n",
       "Facebook Installs            12.0                4.0\n",
       "Organic                      53.0                5.0\n",
       "Instagram Installs           12.0                1.0"
      ]
     },
     "execution_count": 137,
     "metadata": {},
     "output_type": "execute_result"
    }
   ],
   "source": [
    "traffice_conversion_plot"
   ]
  },
  {
   "cell_type": "code",
   "execution_count": null,
   "metadata": {},
   "outputs": [],
   "source": []
  },
  {
   "cell_type": "markdown",
   "metadata": {},
   "source": [
    "#### 1.2) Visualize the Conversion Rates of each of the events/steps in the onboarding\n",
    "> overall conversion rates of each steps \n",
    "\n",
    "> break down into segmentation : conversion rates of each steps of each channel for channels having conversersion rate.\n",
    "\n",
    "Only take \n",
    "'appOpen','Application Installed','sectionChooseFirstTaxYear', 'firstTaxYearChosen','lastWhoAreYouSeen','lastWhoAreYouAnswered','serviceContinueSuccess','sectionSignUp','signUpSuccess' \n",
    "as revelant steps for the analysis"
   ]
  },
  {
   "cell_type": "code",
   "execution_count": 147,
   "metadata": {},
   "outputs": [],
   "source": [
    "user_conv['timestamp']= pd.to_datetime(user_conv['timestamp'])"
   ]
  },
  {
   "cell_type": "code",
   "execution_count": 148,
   "metadata": {},
   "outputs": [],
   "source": [
    "step_conv = user_conv.groupby(['event_text'])['anonymous_id'].nunique().reset_index(name='unique_user')"
   ]
  },
  {
   "cell_type": "code",
   "execution_count": 149,
   "metadata": {},
   "outputs": [
    {
     "data": {
      "text/html": [
       "<div>\n",
       "<style scoped>\n",
       "    .dataframe tbody tr th:only-of-type {\n",
       "        vertical-align: middle;\n",
       "    }\n",
       "\n",
       "    .dataframe tbody tr th {\n",
       "        vertical-align: top;\n",
       "    }\n",
       "\n",
       "    .dataframe thead th {\n",
       "        text-align: right;\n",
       "    }\n",
       "</style>\n",
       "<table border=\"1\" class=\"dataframe\">\n",
       "  <thead>\n",
       "    <tr style=\"text-align: right;\">\n",
       "      <th></th>\n",
       "      <th>event_text</th>\n",
       "      <th>unique_user</th>\n",
       "    </tr>\n",
       "  </thead>\n",
       "  <tbody>\n",
       "    <tr>\n",
       "      <td>0</td>\n",
       "      <td>Application Installed</td>\n",
       "      <td>100</td>\n",
       "    </tr>\n",
       "    <tr>\n",
       "      <td>1</td>\n",
       "      <td>Install Attributed</td>\n",
       "      <td>97</td>\n",
       "    </tr>\n",
       "    <tr>\n",
       "      <td>2</td>\n",
       "      <td>appClosed</td>\n",
       "      <td>6</td>\n",
       "    </tr>\n",
       "    <tr>\n",
       "      <td>3</td>\n",
       "      <td>appOpen</td>\n",
       "      <td>100</td>\n",
       "    </tr>\n",
       "    <tr>\n",
       "      <td>4</td>\n",
       "      <td>appSetToBackground</td>\n",
       "      <td>97</td>\n",
       "    </tr>\n",
       "    <tr>\n",
       "      <td>5</td>\n",
       "      <td>firstTaxYearChosen</td>\n",
       "      <td>92</td>\n",
       "    </tr>\n",
       "    <tr>\n",
       "      <td>6</td>\n",
       "      <td>lastWhoAreYouAnswered</td>\n",
       "      <td>78</td>\n",
       "    </tr>\n",
       "    <tr>\n",
       "      <td>7</td>\n",
       "      <td>lastWhoAreYouSeen</td>\n",
       "      <td>79</td>\n",
       "    </tr>\n",
       "    <tr>\n",
       "      <td>8</td>\n",
       "      <td>sectionChooseFirstTaxYear</td>\n",
       "      <td>93</td>\n",
       "    </tr>\n",
       "    <tr>\n",
       "      <td>9</td>\n",
       "      <td>sectionNotificationAccepted</td>\n",
       "      <td>44</td>\n",
       "    </tr>\n",
       "    <tr>\n",
       "      <td>10</td>\n",
       "      <td>sectionNotificationNotAccepted</td>\n",
       "      <td>58</td>\n",
       "    </tr>\n",
       "    <tr>\n",
       "      <td>11</td>\n",
       "      <td>sectionNotifications</td>\n",
       "      <td>93</td>\n",
       "    </tr>\n",
       "    <tr>\n",
       "      <td>12</td>\n",
       "      <td>sectionOnboardingSlide 0</td>\n",
       "      <td>100</td>\n",
       "    </tr>\n",
       "    <tr>\n",
       "      <td>13</td>\n",
       "      <td>sectionOnboardingSlide 1</td>\n",
       "      <td>35</td>\n",
       "    </tr>\n",
       "    <tr>\n",
       "      <td>14</td>\n",
       "      <td>sectionOnboardingSlide 2</td>\n",
       "      <td>33</td>\n",
       "    </tr>\n",
       "    <tr>\n",
       "      <td>15</td>\n",
       "      <td>sectionSignUp</td>\n",
       "      <td>23</td>\n",
       "    </tr>\n",
       "    <tr>\n",
       "      <td>16</td>\n",
       "      <td>serviceContinueSuccess</td>\n",
       "      <td>45</td>\n",
       "    </tr>\n",
       "    <tr>\n",
       "      <td>17</td>\n",
       "      <td>signUpSuccess</td>\n",
       "      <td>13</td>\n",
       "    </tr>\n",
       "  </tbody>\n",
       "</table>\n",
       "</div>"
      ],
      "text/plain": [
       "                        event_text  unique_user\n",
       "0            Application Installed          100\n",
       "1               Install Attributed           97\n",
       "2                        appClosed            6\n",
       "3                          appOpen          100\n",
       "4               appSetToBackground           97\n",
       "5               firstTaxYearChosen           92\n",
       "6            lastWhoAreYouAnswered           78\n",
       "7                lastWhoAreYouSeen           79\n",
       "8        sectionChooseFirstTaxYear           93\n",
       "9      sectionNotificationAccepted           44\n",
       "10  sectionNotificationNotAccepted           58\n",
       "11            sectionNotifications           93\n",
       "12        sectionOnboardingSlide 0          100\n",
       "13        sectionOnboardingSlide 1           35\n",
       "14        sectionOnboardingSlide 2           33\n",
       "15                   sectionSignUp           23\n",
       "16          serviceContinueSuccess           45\n",
       "17                   signUpSuccess           13"
      ]
     },
     "execution_count": 149,
     "metadata": {},
     "output_type": "execute_result"
    }
   ],
   "source": [
    "step_conv"
   ]
  },
  {
   "cell_type": "code",
   "execution_count": 150,
   "metadata": {},
   "outputs": [],
   "source": [
    "funnel =['appOpen','Application Installed','sectionOnboardingSlide 0','sectionOnboardingSlide 1','sectionOnboardingSlide 2',\\\n",
    "         'sectionChooseFirstTaxYear','firstTaxYearChosen','lastWhoAreYouSeen','lastWhoAreYouAnswered',\\\n",
    "         'serviceContinueSuccess','sectionSignUp','signUpSuccess']"
   ]
  },
  {
   "cell_type": "code",
   "execution_count": 151,
   "metadata": {},
   "outputs": [],
   "source": [
    "step_conv['event_text'] = pd.Categorical(step_conv['event_text'], funnel)\n",
    "step_conv=step_conv.sort_values('event_text').dropna()\n",
    "step_conv.reset_index(drop=True, inplace=True)"
   ]
  },
  {
   "cell_type": "code",
   "execution_count": 152,
   "metadata": {},
   "outputs": [],
   "source": [
    "step_conv['last_event_user'] =  step_conv['unique_user'].shift(periods=1)"
   ]
  },
  {
   "cell_type": "code",
   "execution_count": 155,
   "metadata": {},
   "outputs": [],
   "source": [
    "step_conv['conv_rate'] = round(step_conv['unique_user']/step_conv['last_event_user'],2)"
   ]
  },
  {
   "cell_type": "code",
   "execution_count": 268,
   "metadata": {},
   "outputs": [
    {
     "data": {
      "image/png": "[encoded data removed]",
      "text/plain": [
       "<Figure size 432x288 with 1 Axes>"
      ]
     },
     "metadata": {
      "needs_background": "light"
     },
     "output_type": "display_data"
    }
   ],
   "source": [
    "step_conv=step_conv[step_conv['event_text']!='appOpen']\n",
    "ax2 = step_conv.plot.barh('event_text','conv_rate')\n",
    "for i in ax2.patches:\n",
    "    ax2.text(i.get_width()-.25, i.get_y()+.34, \\\n",
    "            str((int(i.get_width()*100)))+'%', fontsize=12, color='white')\n",
    "    \n",
    "ax2.set_ylabel(\"Onboarding Steps\", fontsize=16,labelpad=10)\n",
    "ax2.set_xlabel(\"Conversation rate\", fontsize=16,labelpad=20)\n",
    "ax2.spines['right'].set_visible(False)\n",
    "ax2.spines['top'].set_visible(False)\n",
    "ax2.spines['left'].set_visible(False)\n",
    "ax2.spines['bottom'].set_visible(False)\n",
    "ax2.get_xaxis().set_visible(False)\n",
    "ax2.legend(['conversation rate '])\n",
    "ax2.invert_yaxis()"
   ]
  },
  {
   "cell_type": "markdown",
   "metadata": {},
   "source": [
    "#### Conclusions: \n",
    "1. sectionOnboardingSlide seems to be not helpful, users incline to skip them. Maybe those are not necessary, and we can set a A/B testing to see if removing them causes any user leaving\n",
    "2. The drop from serviceContinueSuccess looks reasonable, since not all users are supported by the app.\n",
    "3. However, half of users that are supported didn't sign up. Breaking down into each channel to figure out the reason "
   ]
  },
  {
   "cell_type": "code",
   "execution_count": null,
   "metadata": {},
   "outputs": [],
   "source": []
  },
  {
   "cell_type": "markdown",
   "metadata": {},
   "source": [
    "#### Join table for analyzing on boarding process per channel( WITHOUT sectionOnboardingSlide )"
   ]
  },
  {
   "cell_type": "code",
   "execution_count": 273,
   "metadata": {},
   "outputs": [],
   "source": [
    "join_table = pd.merge(user_channel,user_conv,on='anonymous_id')\n",
    "join_table['timestamp']= pd.to_datetime(join_table['timestamp'],utc=True)"
   ]
  },
  {
   "cell_type": "code",
   "execution_count": 274,
   "metadata": {},
   "outputs": [],
   "source": [
    "join_step_conv = join_table.groupby(['event_text','attributed_channel'])['anonymous_id'].nunique().reset_index(name='unique_user')\n",
    "join_step_conv['event_text'] = pd.Categorical(join_step_conv['event_text'], funnel)\n",
    "join_step_conv=join_step_conv.sort_values('event_text').dropna()\n",
    "join_step_conv.reset_index(drop=True, inplace=True)\n",
    "join_step_conv = join_step_conv.pivot(index='event_text',columns='attributed_channel',values='unique_user')\n",
    "\n",
    "join_step_conv.fillna(0,inplace=True)"
   ]
  },
  {
   "cell_type": "code",
   "execution_count": 275,
   "metadata": {},
   "outputs": [],
   "source": [
    "seg_plot = join_step_conv[['Organic','Facebook Installs','Instagram Installs','Off-Facebook Installs']].reset_index(level=[0])\n",
    "seg_plot_nohelp= seg_plot[~seg_plot['event_text'].isin(['sectionOnboardingSlide 0','sectionOnboardingSlide 1','sectionOnboardingSlide 2'])]"
   ]
  },
  {
   "cell_type": "code",
   "execution_count": 276,
   "metadata": {},
   "outputs": [
    {
     "data": {
      "image/png": "[encoded data removed]",
      "text/plain": [
       "<Figure size 1152x288 with 1 Axes>"
      ]
     },
     "metadata": {
      "needs_background": "light"
     },
     "output_type": "display_data"
    }
   ],
   "source": [
    "ax11 = seg_plot_nohelp.plot(x='event_text',figsize=(16, 4),marker='+', mfc='black')"
   ]
  },
  {
   "cell_type": "markdown",
   "metadata": {},
   "source": [
    "> Look at users from Organic and has trigged serviceContinueSuccess\n",
    "\n",
    "> put the user_id and the first time when they trigged serviceContinueSuccess into a dictory and find out the next event after serviceContinueSuccess"
   ]
  },
  {
   "cell_type": "code",
   "execution_count": 277,
   "metadata": {},
   "outputs": [
    {
     "name": "stderr",
     "output_type": "stream",
     "text": [
      "C:\\Users\\DE108470\\AppData\\Local\\Continuum\\anaconda3\\lib\\site-packages\\ipykernel_launcher.py:4: SettingWithCopyWarning: \n",
      "A value is trying to be set on a copy of a slice from a DataFrame.\n",
      "Try using .loc[row_indexer,col_indexer] = value instead\n",
      "\n",
      "See the caveats in the documentation: http://pandas.pydata.org/pandas-docs/stable/user_guide/indexing.html#returning-a-view-versus-a-copy\n",
      "  after removing the cwd from sys.path.\n",
      "C:\\Users\\DE108470\\AppData\\Local\\Continuum\\anaconda3\\lib\\site-packages\\ipykernel_launcher.py:5: SettingWithCopyWarning: \n",
      "A value is trying to be set on a copy of a slice from a DataFrame.\n",
      "Try using .loc[row_indexer,col_indexer] = value instead\n",
      "\n",
      "See the caveats in the documentation: http://pandas.pydata.org/pandas-docs/stable/user_guide/indexing.html#returning-a-view-versus-a-copy\n",
      "  \"\"\"\n"
     ]
    }
   ],
   "source": [
    "os = join_table[(join_table['attributed_channel']=='Organic')& (join_table['event_text']=='serviceContinueSuccess')].anonymous_id\n",
    "ogranic_table = join_table[join_table['anonymous_id'].isin(os)]\n",
    "ogranic_table.sort_values('timestamp')\n",
    "ogranic_table['signup_success']= ogranic_table['event_text'].apply(lambda x: 1 if x =='sectionSignUp' else 0)\n",
    "ogranic_table['continue_success']= ogranic_table['event_text'].apply(lambda x: 1 if x =='serviceContinueSuccess' else 0)"
   ]
  },
  {
   "cell_type": "code",
   "execution_count": 278,
   "metadata": {},
   "outputs": [],
   "source": [
    "select_table = ogranic_table.copy()\n",
    "select_table['continue_success']= select_table.apply(lambda x :1 if (x['signup_success'] == 1 or x['continue_success'] ==1)  else 0 ,axis=1)\n",
    "id_not_sign = select_table.groupby(['anonymous_id']).agg({'continue_success':sum,'signup_success':sum}).reset_index().query('signup_success == 0').anonymous_id\n",
    "table_not_sign = select_table[(select_table['signup_success']==0)&(select_table['continue_success']==1) ]\n",
    "table= table_not_sign.drop_duplicates(subset='anonymous_id',keep='first')\n",
    "time_mapper =dict(zip(table.anonymous_id, table.timestamp))"
   ]
  },
  {
   "cell_type": "code",
   "execution_count": 279,
   "metadata": {},
   "outputs": [],
   "source": [
    "reason = select_table[select_table['anonymous_id'].isin(id_not_sign)]\n",
    "result = reason.apply(lambda x: x if x['timestamp']>time_mapper[x['anonymous_id']] else pd.Series([]),axis=1).dropna()"
   ]
  },
  {
   "cell_type": "markdown",
   "metadata": {},
   "source": [
    "#### The next pages after \"serviceContinueSuccess\""
   ]
  },
  {
   "cell_type": "code",
   "execution_count": 280,
   "metadata": {},
   "outputs": [
    {
     "data": {
      "image/png": "[encoded data removed]",
      "text/plain": [
       "<Figure size 720x432 with 1 Axes>"
      ]
     },
     "metadata": {
      "needs_background": "light"
     },
     "output_type": "display_data"
    }
   ],
   "source": [
    "sorted_group = result.groupby('anonymous_id').apply(lambda x: x.sort_values([\"timestamp\"])).reset_index(drop=True)\n",
    "top_3 = sorted_group.groupby('anonymous_id').head(1)\n",
    "ax9 = top_3.groupby('event_text',as_index=False)['anonymous_id'].count().plot.bar('event_text',figsize=(10,6),color='steelblue',\n",
    "                                                                                rot=0)\n",
    "ax9.legend(['users leaving after serviceContinueSuccess'])\n",
    "\n",
    "\n",
    "ax9.set_title(\"The event happened after serviceContinueSuccess page \", fontsize=14).set_position([.5, 1.1])\n",
    "ax9.set_ylabel(\"The amount of users\", fontsize=16,labelpad=20)\n",
    "ax9.set_xlabel(\"\", fontsize=16,labelpad=20)\n",
    "\n",
    "ax9.spines['right'].set_visible(False)\n",
    "ax9.spines['top'].set_visible(False)\n",
    "ax9.spines['left'].set_visible(False)\n",
    "plt.savefig('reason')\n"
   ]
  },
  {
   "cell_type": "code",
   "execution_count": null,
   "metadata": {},
   "outputs": [],
   "source": []
  },
  {
   "cell_type": "code",
   "execution_count": null,
   "metadata": {},
   "outputs": [],
   "source": []
  },
  {
   "cell_type": "code",
   "execution_count": null,
   "metadata": {},
   "outputs": [],
   "source": []
  },
  {
   "cell_type": "code",
   "execution_count": null,
   "metadata": {},
   "outputs": [],
   "source": []
  },
  {
   "cell_type": "code",
   "execution_count": 244,
   "metadata": {},
   "outputs": [],
   "source": []
  },
  {
   "cell_type": "code",
   "execution_count": null,
   "metadata": {},
   "outputs": [],
   "source": []
  }
 ],
 "metadata": {
  "kernelspec": {
   "display_name": "Python 3",
   "language": "python",
   "name": "python3"
  },
  "language_info": {
   "codemirror_mode": {
    "name": "ipython",
    "version": 3
   },
   "file_extension": ".py",
   "mimetype": "text/x-python",
   "name": "python",
   "nbconvert_exporter": "python",
   "pygments_lexer": "ipython3",
   "version": "3.7.4"
  }
 },
 "nbformat": 4,
 "nbformat_minor": 2
}
